{
 "cells": [
  {
   "cell_type": "markdown",
   "metadata": {},
   "source": [
    "Use shift-enter to execute each code cell. Some cells require earlier cells, so run them all. "
   ]
  },
  {
   "cell_type": "code",
   "execution_count": 1,
   "metadata": {
    "slideshow": {
     "slide_type": "slide"
    }
   },
   "outputs": [],
   "source": [
    "# This loads numerous packages and defines functions I used in these notes\n",
    "\n",
    "%run -i \"controls_imports.py\"\n",
    "\n",
    "# Do we really need to see more decimal places. \n",
    "%precision 5"
   ]
  },
  {
   "cell_type": "markdown",
   "metadata": {},
   "source": [
    "## Introduction:\n",
    "\n",
    "I'm going to start using more coding in class here. Because I can integrate it live with notes, I'll be using Python. Specifically, I'll be using the [Python Control Systems Library](https://python-control.readthedocs.io/en/0.8.3/) with an emphasis on trying to stay within the [MATLAB compatibility module](https://python-control.readthedocs.io/en/0.8.3/matlab.html). This means that much of the syntax will look the same as [Matlab](http://mathworks.com). However, it won't be 100%. Many of the commands will be preceded by ``ctrl.``. This is a python technique that allows the usage of a variable or function name in multiple places. For example, later in the course I will solve for eigenvalues. The Matlab command is ``eig``. However, I might personally want to call my eigenvalue variable ``eig``. You can't do that in Matlab. ``eig`` is already taken. You can \"deal with it\". In python, however, when I ``import`` (make ready for usage) the ``eig command``, I will do it in the following form:\n",
    "\n",
    "````\n",
    "import numpy.linalg as la  # Only has to be done once before using it as many times as wanted.\n",
    "eig = la.eig(A) # Presuming A has already been defined\n",
    "````\n",
    "\n",
    "So, now my eigenvalues are in the variable ``eig``. \n",
    "\n",
    "Python is easy enough you will be able to read what I'm doing and understand it. I will comment the code as I think is necessary. If you know Matlab, you will be able to replicate it there just fine. \n",
    "\n",
    "I could use Matlab in these notes. However, running Matlab within notebooks takes that much more expertise to get working. Click [how to use Matlab within jupyter notebooks](https://am111.readthedocs.io/en/latest/jmatlab_install.html) is you want to try it. I've done it. I simply know it's unlikely many of you will want to do so, so I'd rather give you code you can run as long as Python is installed (which already had to happen just to *have* this notebook). \n",
    "\n",
    "As always, please reach out to me. I'm happy to provide support to get things working. I won't work on getting Matlab working in [jupyter](http://jupyter.org)- it's a bit more fragile and you will have to learn to maintain it. "
   ]
  },
  {
   "cell_type": "markdown",
   "metadata": {},
   "source": [
    "The text covers the polynomial tools in Matlab. I placed a module in the public repository illustrating the same in Python. I don't think it's necessary, but if I'm wrong, it is there. \n",
    "\n",
    "Here we start with the controls functions. "
   ]
  },
  {
   "cell_type": "code",
   "execution_count": 38,
   "metadata": {},
   "outputs": [
    {
     "data": {
      "text/latex": [
       "$$\\frac{10}{s^2 + 2 s + 5}$$"
      ],
      "text/plain": [
       "\n",
       "      10\n",
       "-------------\n",
       "s^2 + 2 s + 5"
      ]
     },
     "execution_count": 38,
     "metadata": {},
     "output_type": "execute_result"
    }
   ],
   "source": [
    "num1 = 10\n",
    "den1 = [1, 2, 5]\n",
    "sys1 = ctrl.tf(num1, den1)\n",
    "sys1"
   ]
  },
  {
   "cell_type": "code",
   "execution_count": 39,
   "metadata": {},
   "outputs": [
    {
     "data": {
      "text/latex": [
       "$$\\frac{1}{s + 1}$$"
      ],
      "text/plain": [
       "\n",
       "  1\n",
       "-----\n",
       "s + 1"
      ]
     },
     "execution_count": 39,
     "metadata": {},
     "output_type": "execute_result"
    }
   ],
   "source": [
    "num2 = 1\n",
    "den2 = [1, 1]\n",
    "sys2 = ctrl.tf(num2, den2)\n",
    "sys2"
   ]
  },
  {
   "cell_type": "code",
   "execution_count": 40,
   "metadata": {},
   "outputs": [
    {
     "data": {
      "text/latex": [
       "$$\\frac{s^2 + 12 s + 15}{s^3 + 3 s^2 + 7 s + 5}$$"
      ],
      "text/plain": [
       "\n",
       "   s^2 + 12 s + 15\n",
       "---------------------\n",
       "s^3 + 3 s^2 + 7 s + 5"
      ]
     },
     "execution_count": 40,
     "metadata": {},
     "output_type": "execute_result"
    }
   ],
   "source": [
    "sys1 + sys2"
   ]
  },
  {
   "cell_type": "code",
   "execution_count": 41,
   "metadata": {},
   "outputs": [
    {
     "data": {
      "text/latex": [
       "$$\\frac{10 s + 10}{s^2 + 2 s + 5}$$"
      ],
      "text/plain": [
       "\n",
       "  10 s + 10\n",
       "-------------\n",
       "s^2 + 2 s + 5"
      ]
     },
     "execution_count": 41,
     "metadata": {},
     "output_type": "execute_result"
    }
   ],
   "source": [
    "sys1/sys2"
   ]
  },
  {
   "cell_type": "code",
   "execution_count": 42,
   "metadata": {},
   "outputs": [
    {
     "data": {
      "text/latex": [
       "$$\\frac{-s^2 + 8 s + 5}{s^3 + 3 s^2 + 7 s + 5}$$"
      ],
      "text/plain": [
       "\n",
       "    -s^2 + 8 s + 5\n",
       "---------------------\n",
       "s^3 + 3 s^2 + 7 s + 5"
      ]
     },
     "execution_count": 42,
     "metadata": {},
     "output_type": "execute_result"
    }
   ],
   "source": [
    "sys1 - sys2"
   ]
  },
  {
   "cell_type": "code",
   "execution_count": 49,
   "metadata": {},
   "outputs": [
    {
     "name": "stdout",
     "output_type": "stream",
     "text": [
      "Poles: [-1. -1.]   Zeros: [-10.]\n"
     ]
    }
   ],
   "source": [
    "sys = ctrl.tf([1, 10], [1, 2, 1])\n",
    "p = ctrl.pole(sys)\n",
    "z = ctrl.zero(sys)\n",
    "print('Poles: {}   Zeros: {}'.format(p, z))"
   ]
  },
  {
   "cell_type": "code",
   "execution_count": 51,
   "metadata": {},
   "outputs": [
    {
     "data": {
      "text/plain": [
       "array([-1., -1.])"
      ]
     },
     "execution_count": 51,
     "metadata": {},
     "output_type": "execute_result"
    },
    {
     "data": {
      "image/png": "[encoded data removed]",
      "text/plain": [
       "<Figure size 432x288 with 1 Axes>"
      ]
     },
     "metadata": {
      "needs_background": "light"
     },
     "output_type": "display_data"
    }
   ],
   "source": [
    "[p, z] = ctrl.pzmap(sys)\n",
    "p"
   ]
  },
  {
   "cell_type": "code",
   "execution_count": 53,
   "metadata": {},
   "outputs": [
    {
     "data": {
      "text/latex": [
       "$$\\frac{6 s^2 + 1}{s^3 + 3 s^2 + 3 s + 1}$$"
      ],
      "text/plain": [
       "\n",
       "      6 s^2 + 1\n",
       "---------------------\n",
       "s^3 + 3 s^2 + 3 s + 1"
      ]
     },
     "execution_count": 53,
     "metadata": {},
     "output_type": "execute_result"
    }
   ],
   "source": [
    "sysg = ctrl.tf([6, 0, 1],[1, 3, 3, 1])\n",
    "sysg"
   ]
  },
  {
   "cell_type": "code",
   "execution_count": 61,
   "metadata": {},
   "outputs": [
    {
     "data": {
      "text/latex": [
       "$$\\frac{s + 1}{1}$$"
      ],
      "text/plain": [
       "\n",
       "s + 1\n",
       "-----\n",
       "  1"
      ]
     },
     "execution_count": 61,
     "metadata": {},
     "output_type": "execute_result"
    }
   ],
   "source": [
    "# Since I think flipping polynomials is a mistake waiting to happen, I just defined each portion \n",
    "# in the transfer function as one itself, and multiplied and divided them. \n",
    "# For instance, the top left portion is\n",
    "ctrl.tf([1, 1], 1)"
   ]
  },
  {
   "cell_type": "markdown",
   "metadata": {},
   "source": [
    "So:"
   ]
  },
  {
   "cell_type": "code",
   "execution_count": 62,
   "metadata": {},
   "outputs": [
    {
     "data": {
      "text/latex": [
       "$$\\frac{s^2 + 3 s + 2}{s^3 + 3 s^2 + 4 s + 12}$$"
      ],
      "text/plain": [
       "\n",
       "    s^2 + 3 s + 2\n",
       "----------------------\n",
       "s^3 + 3 s^2 + 4 s + 12"
      ]
     },
     "execution_count": 62,
     "metadata": {},
     "output_type": "execute_result"
    }
   ],
   "source": [
    "sysh = ctrl.tf([1, 1], 1)*ctrl.tf([1, 2], 1)/ctrl.tf([1, 2*i], 1)/ctrl.tf([1, -2*i], 1)/ctrl.tf([1, 3], 1)\n",
    "sysh"
   ]
  },
  {
   "cell_type": "markdown",
   "metadata": {},
   "source": [
    "Simpler would have been:"
   ]
  },
  {
   "cell_type": "code",
   "execution_count": 78,
   "metadata": {},
   "outputs": [
    {
     "data": {
      "text/latex": [
       "$$\\frac{s^2 + 3 s + 2}{s^3 + 3 s^2 + 4 s + 12}$$"
      ],
      "text/plain": [
       "\n",
       "    s^2 + 3 s + 2\n",
       "----------------------\n",
       "s^3 + 3 s^2 + 4 s + 12"
      ]
     },
     "execution_count": 78,
     "metadata": {},
     "output_type": "execute_result"
    }
   ],
   "source": [
    "sysh = ctrl.tf([1, 1], [1, 2*i])*ctrl.tf([1, 2], [1, -2*i])/ctrl.tf([1, 3], 1)\n",
    "sysh"
   ]
  },
  {
   "cell_type": "code",
   "execution_count": 79,
   "metadata": {},
   "outputs": [
    {
     "data": {
      "text/latex": [
       "$$\\frac{6 s^5 + 18 s^4 + 25 s^3 + 75 s^2 + 4 s + 12}{s^5 + 6 s^4 + 14 s^3 + 16 s^2 + 9 s + 2}$$"
      ],
      "text/plain": [
       "\n",
       "6 s^5 + 18 s^4 + 25 s^3 + 75 s^2 + 4 s + 12\n",
       "-------------------------------------------\n",
       "  s^5 + 6 s^4 + 14 s^3 + 16 s^2 + 9 s + 2"
      ]
     },
     "execution_count": 79,
     "metadata": {},
     "output_type": "execute_result"
    }
   ],
   "source": [
    "sys = sysg/sysh\n",
    "sys"
   ]
  },
  {
   "cell_type": "code",
   "execution_count": 80,
   "metadata": {},
   "outputs": [
    {
     "data": {
      "image/png": "[encoded data removed]",
      "text/plain": [
       "<Figure size 432x288 with 1 Axes>"
      ]
     },
     "metadata": {
      "needs_background": "light"
     },
     "output_type": "display_data"
    }
   ],
   "source": [
    "ctrl.pzmap(sys);"
   ]
  },
  {
   "cell_type": "code",
   "execution_count": 81,
   "metadata": {},
   "outputs": [
    {
     "data": {
      "text/latex": [
       "$$\\frac{10}{s^3 + 3 s^2 + 7 s + 5}$$"
      ],
      "text/plain": [
       "\n",
       "          10\n",
       "---------------------\n",
       "s^3 + 3 s^2 + 7 s + 5"
      ]
     },
     "execution_count": 81,
     "metadata": {},
     "output_type": "execute_result"
    }
   ],
   "source": [
    "sys1*sys2"
   ]
  },
  {
   "cell_type": "code",
   "execution_count": 82,
   "metadata": {},
   "outputs": [
    {
     "data": {
      "text/latex": [
       "$$\\frac{10}{s^3 + 3 s^2 + 7 s + 5}$$"
      ],
      "text/plain": [
       "\n",
       "          10\n",
       "---------------------\n",
       "s^3 + 3 s^2 + 7 s + 5"
      ]
     },
     "execution_count": 82,
     "metadata": {},
     "output_type": "execute_result"
    }
   ],
   "source": [
    "ctrl.series(sys1,sys2)"
   ]
  },
  {
   "cell_type": "code",
   "execution_count": null,
   "metadata": {},
   "outputs": [],
   "source": []
  }
 ],
 "metadata": {
  "kernelspec": {
   "display_name": "Python 3",
   "language": "python",
   "name": "python3"
  },
  "language_info": {
   "codemirror_mode": {
    "name": "ipython",
    "version": 3
   },
   "file_extension": ".py",
   "mimetype": "text/x-python",
   "name": "python",
   "nbconvert_exporter": "python",
   "pygments_lexer": "ipython3",
   "version": "3.8.5"
  }
 },
 "nbformat": 4,
 "nbformat_minor": 4
}
