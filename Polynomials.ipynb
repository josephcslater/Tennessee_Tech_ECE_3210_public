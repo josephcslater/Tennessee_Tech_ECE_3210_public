{
 "cells": [
  {
   "cell_type": "markdown",
   "metadata": {},
   "source": [
    "# Polynomials\n",
    "\n",
    "The text covers this, but I don't think it's as necessary. I'll show python here. Matlab has very similar commands. The big difference is that when working with polynomials, Matlab is backwards from a good convention. The simplest object in math is a number. That's the $x^0$ term. That should come first. If you ever work with multi-dimensional polynomials with high order, you eventually find that adding things to the front is very awkward. From a programming standpoint, the memory before a variable is more likely to be filled than after. So, if we allocate space, then want to use more, we'd much rather append. Practical aspects means in \"real\" programming that we set aside more space at the end, then use it only if we need to. So, we might start with a line fit to data, then a quadratic. Well, we want that data in the next spot in memory, not prior. \n",
    "\n",
    "In the end, it can all be worked around. Matlab starts at the highest power and counts down. Python the lowest and counts up. \n",
    "\n",
    "The control module in Python uses the Matlab convention, so- keep that in mind if you use these functions plus the control module. In reality, you don't need these for controls, but they are here for those interested... and me. "
   ]
  },
  {
   "cell_type": "markdown",
   "metadata": {},
   "source": [
    "Use shift-enter to execute each code cell. Some cells require earlier cells, so run them all. "
   ]
  },
  {
   "cell_type": "code",
   "execution_count": 1,
   "metadata": {},
   "outputs": [],
   "source": [
    "# This loads numerous packages and defines functions I used in these notes\n",
    "\n",
    "%run -i \"controls_imports.py\""
   ]
  },
  {
   "cell_type": "code",
   "execution_count": 2,
   "metadata": {},
   "outputs": [
    {
     "data": {
      "text/plain": [
       "'%.5f'"
      ]
     },
     "execution_count": 2,
     "metadata": {},
     "output_type": "execute_result"
    }
   ],
   "source": [
    "# Do we really need to see more decimal places?\n",
    "%precision 5"
   ]
  },
  {
   "cell_type": "code",
   "execution_count": 3,
   "metadata": {},
   "outputs": [
    {
     "data": {
      "text/latex": [
       "$x \\mapsto \\text{1.0} + \\text{2.0}\\,x + \\text{3.0}\\,x^{2}$"
      ],
      "text/plain": [
       "Polynomial([1., 2., 3.], domain=[-1,  1], window=[-1,  1])"
      ]
     },
     "execution_count": 3,
     "metadata": {},
     "output_type": "execute_result"
    }
   ],
   "source": [
    "# This is the full \"python\" command to display a polynomial, after I've added some cool stuff to it \n",
    "# to make it output nicely. It's all in the controls_imports.py file. I googled it. I don't know\n",
    "# how it works either. \n",
    "\n",
    "# The nice thing about this output is I know exactly what I got. The 3 is the coefficient to x^2,\n",
    "# not the 1.\n",
    "a = [1, 2, 3]\n",
    "np.polynomial.Polynomial(a)"
   ]
  },
  {
   "cell_type": "code",
   "execution_count": 4,
   "metadata": {},
   "outputs": [
    {
     "data": {
      "text/latex": [
       "$x \\mapsto \\text{1.0} + \\text{2.0}\\,x + \\text{3.0}\\,x^{2}$"
      ],
      "text/plain": [
       "Polynomial([1., 2., 3.], domain=[-1,  1], window=[-1,  1])"
      ]
     },
     "execution_count": 4,
     "metadata": {},
     "output_type": "execute_result"
    }
   ],
   "source": [
    "# I defined a shorter function. \n",
    "display_poly(a)"
   ]
  },
  {
   "cell_type": "code",
   "execution_count": 5,
   "metadata": {},
   "outputs": [
    {
     "data": {
      "text/latex": [
       "$x \\mapsto \\text{3.0} + \\text{2.0}\\,x + \\text{1.0}\\,x^{2}$"
      ],
      "text/plain": [
       "Polynomial([3., 2., 1.], domain=[-1,  1], window=[-1,  1])"
      ]
     },
     "execution_count": 5,
     "metadata": {},
     "output_type": "execute_result"
    }
   ],
   "source": [
    "# If I have the array backwards, I can flip it. \n",
    "a = np.flip(a)\n",
    "display_poly(a)"
   ]
  },
  {
   "cell_type": "code",
   "execution_count": 6,
   "metadata": {},
   "outputs": [
    {
     "data": {
      "text/latex": [
       "$x \\mapsto \\text{1.0} + \\text{3.0}\\,x\\color{LightGray}{ + \\text{0.0}\\,x^{2}} + \\text{4.0}\\,x^{3}$"
      ],
      "text/plain": [
       "Polynomial([1., 3., 0., 4.], domain=[-1,  1], window=[-1,  1])"
      ]
     },
     "execution_count": 6,
     "metadata": {},
     "output_type": "execute_result"
    }
   ],
   "source": [
    "# Let's use the text numbers so you can compare if you like\n",
    "\n",
    "# I can't use p like the book because we just used it as the name of the polynomial package!\n",
    "a = [1, 3, 0, 4]\n",
    "display_poly(a)"
   ]
  },
  {
   "cell_type": "code",
   "execution_count": 7,
   "metadata": {},
   "outputs": [
    {
     "data": {
      "text/latex": [
       "$x \\mapsto \\text{4.0}\\color{LightGray}{ + \\text{0.0}\\,x} + \\text{3.0}\\,x^{2} + \\text{1.0}\\,x^{3}$"
      ],
      "text/plain": [
       "Polynomial([4., 0., 3., 1.], domain=[-1,  1], window=[-1,  1])"
      ]
     },
     "execution_count": 7,
     "metadata": {},
     "output_type": "execute_result"
    }
   ],
   "source": [
    "a = np.flip(a)\n",
    "display_poly([4,0,3,1])"
   ]
  },
  {
   "cell_type": "code",
   "execution_count": 8,
   "metadata": {},
   "outputs": [
    {
     "data": {
      "text/plain": [
       "array([-3.3553 +0.j    ,  0.17765-1.0773j,  0.17765+1.0773j])"
      ]
     },
     "execution_count": 8,
     "metadata": {},
     "output_type": "execute_result"
    }
   ],
   "source": [
    "roots = p.polyroots(a)\n",
    "roots"
   ]
  },
  {
   "cell_type": "code",
   "execution_count": 9,
   "metadata": {},
   "outputs": [
    {
     "data": {
      "text/plain": [
       "array([4.00000e+00+1.11022e-16j, 2.22045e-16+0.00000e+00j,\n",
       "       3.00000e+00+0.00000e+00j, 1.00000e+00+0.00000e+00j])"
      ]
     },
     "execution_count": 9,
     "metadata": {},
     "output_type": "execute_result"
    }
   ],
   "source": [
    "p.polyfromroots(roots)"
   ]
  },
  {
   "cell_type": "code",
   "execution_count": 10,
   "metadata": {},
   "outputs": [
    {
     "data": {
      "text/latex": [
       "$x \\mapsto \\text{4.0} + \\text{9.0}\\,x + \\text{14.0}\\,x^{2} + \\text{3.0}\\,x^{3}$"
      ],
      "text/plain": [
       "Polynomial([ 4.,  9., 14.,  3.], domain=[-1,  1], window=[-1,  1])"
      ]
     },
     "execution_count": 10,
     "metadata": {},
     "output_type": "execute_result"
    }
   ],
   "source": [
    "a = [1, 2, 3]\n",
    "q = [4, 1]\n",
    "n = p.polymul(a, q)\n",
    "display_poly(n)"
   ]
  },
  {
   "cell_type": "code",
   "execution_count": 11,
   "metadata": {},
   "outputs": [
    {
     "data": {
      "image/png": "[encoded data removed]",
      "text/latex": [
       "$\\displaystyle -66.0$"
      ],
      "text/plain": [
       "-66.0"
      ]
     },
     "execution_count": 11,
     "metadata": {},
     "output_type": "execute_result"
    }
   ],
   "source": [
    "p.polyval(-5, n) #opposite order of arguments from Matlab. Help helps."
   ]
  },
  {
   "cell_type": "code",
   "execution_count": null,
   "metadata": {},
   "outputs": [],
   "source": []
  },
  {
   "cell_type": "code",
   "execution_count": null,
   "metadata": {},
   "outputs": [],
   "source": []
  }
 ],
 "metadata": {
  "kernelspec": {
   "display_name": "Python 3",
   "language": "python",
   "name": "python3"
  },
  "language_info": {
   "codemirror_mode": {
    "name": "ipython",
    "version": 3
   },
   "file_extension": ".py",
   "mimetype": "text/x-python",
   "name": "python",
   "nbconvert_exporter": "python",
   "pygments_lexer": "ipython3",
   "version": "3.8.5"
  }
 },
 "nbformat": 4,
 "nbformat_minor": 4
}
