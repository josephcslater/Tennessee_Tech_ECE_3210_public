{
 "cells": [
  {
   "cell_type": "markdown",
   "metadata": {},
   "source": [
    "# Multiple equations/multiple unknowns \n",
    "Solution to problem P2.31 in Modern Control Systems, Dorf and Bishop"
   ]
  },
  {
   "cell_type": "code",
   "execution_count": 2,
   "metadata": {},
   "outputs": [],
   "source": [
    "import sympy as sym\n",
    "# print things all pretty\n",
    "from sympy.abc import *\n",
    "sym.init_printing()\n",
    "\n",
    "# Need to define variables as symbolic for sympy to use them. \n",
    "# This might have been best through multiple excetitions for smaller sets of variables.\n",
    "G1, H1, G2, H2, G3, H3, G4, H4, G5, G6, R1, Y1, Y2, X1= symbols(\"G1, H1, G2, H2, G3, H3, G4, H4, G5, G6, R1, Y1, Y2, X1\", real = True)"
   ]
  },
  {
   "cell_type": "markdown",
   "metadata": {},
   "source": [
    "Equations are defined by putting everything on the same side so the expression is equal to zero. \n",
    "\n",
    "The equations can be assigned to a variable.  On the next line, equation `eqn1`."
   ]
  },
  {
   "cell_type": "code",
   "execution_count": 3,
   "metadata": {},
   "outputs": [
    {
     "data": {
      "image/png": "[encoded data removed]",
      "text/latex": [
       "$\\displaystyle - H_{1} Y_{1} + R_{1} - X_{1}$"
      ],
      "text/plain": [
       "-H₁⋅Y₁ + R₁ - X₁"
      ]
     },
     "execution_count": 3,
     "metadata": {},
     "output_type": "execute_result"
    }
   ],
   "source": [
    "eqn1 = R1-H1*Y1-X1\n",
    "eqn1"
   ]
  },
  {
   "cell_type": "code",
   "execution_count": 4,
   "metadata": {},
   "outputs": [
    {
     "data": {
      "image/png": "[encoded data removed]",
      "text/latex": [
       "$\\displaystyle G_{1} X_{1} + G_{3} H_{2} Y_{2} - \\frac{Y_{1}}{G_{2}}$"
      ],
      "text/plain": [
       "                   Y₁\n",
       "G₁⋅X₁ + G₃⋅H₂⋅Y₂ - ──\n",
       "                   G₂"
      ]
     },
     "execution_count": 4,
     "metadata": {},
     "output_type": "execute_result"
    }
   ],
   "source": [
    "eqn2 = X1*G1+G3*H2*Y2-Y1/G2\n",
    "eqn2"
   ]
  },
  {
   "cell_type": "code",
   "execution_count": 5,
   "metadata": {},
   "outputs": [
    {
     "data": {
      "image/png": "[encoded data removed]",
      "text/latex": [
       "$\\displaystyle G_{5} H_{2} Y_{2} - G_{6} Y_{2} + \\frac{G_{4} Y_{1}}{G_{2}}$"
      ],
      "text/plain": [
       "                   G₄⋅Y₁\n",
       "G₅⋅H₂⋅Y₂ - G₆⋅Y₂ + ─────\n",
       "                     G₂ "
      ]
     },
     "execution_count": 5,
     "metadata": {},
     "output_type": "execute_result"
    }
   ],
   "source": [
    "eqn3 = Y2*H2*G5+G4/G2*Y1-G6*Y2\n",
    "eqn3"
   ]
  },
  {
   "cell_type": "markdown",
   "metadata": {},
   "source": [
    "Let's eliminate $X_1$ from equations 1 and 2. "
   ]
  },
  {
   "cell_type": "code",
   "execution_count": 7,
   "metadata": {},
   "outputs": [
    {
     "data": {
      "image/png": "[encoded data removed]",
      "text/latex": [
       "$\\displaystyle \\left\\{ X_{1} : \\frac{R_{1} \\left(G_{3} G_{4} H_{2} + G_{5} H_{2} - G_{6}\\right)}{G_{1} G_{2} H_{1} \\left(G_{5} H_{2} - G_{6}\\right) + G_{3} G_{4} H_{2} + G_{5} H_{2} - G_{6}}, \\  Y_{1} : \\frac{G_{1} G_{2} R_{1} \\left(G_{5} H_{2} - G_{6}\\right)}{G_{1} G_{2} H_{1} \\left(G_{5} H_{2} - G_{6}\\right) + G_{3} G_{4} H_{2} + G_{5} H_{2} - G_{6}}, \\  Y_{2} : - \\frac{G_{1} G_{4} R_{1}}{G_{1} G_{2} H_{1} \\left(G_{5} H_{2} - G_{6}\\right) + G_{3} G_{4} H_{2} + G_{5} H_{2} - G_{6}}\\right\\}$"
      ],
      "text/plain": [
       "⎧              R₁⋅(G₃⋅G₄⋅H₂ + G₅⋅H₂ - G₆)                           G₁⋅G₂⋅R₁⋅(\n",
       "⎨X₁: ─────────────────────────────────────────────, Y₁: ──────────────────────\n",
       "⎩    G₁⋅G₂⋅H₁⋅(G₅⋅H₂ - G₆) + G₃⋅G₄⋅H₂ + G₅⋅H₂ - G₆      G₁⋅G₂⋅H₁⋅(G₅⋅H₂ - G₆) \n",
       "\n",
       "G₅⋅H₂ - G₆)                                    -G₁⋅G₄⋅R₁                  ⎫\n",
       "───────────────────────, Y₂: ─────────────────────────────────────────────⎬\n",
       "+ G₃⋅G₄⋅H₂ + G₅⋅H₂ - G₆      G₁⋅G₂⋅H₁⋅(G₅⋅H₂ - G₆) + G₃⋅G₄⋅H₂ + G₅⋅H₂ - G₆⎭"
      ]
     },
     "execution_count": 7,
     "metadata": {},
     "output_type": "execute_result"
    }
   ],
   "source": [
    "soln = sym.solve([eqn1, eqn2, eqn3], Y1, Y2, X1)\n",
    "soln"
   ]
  },
  {
   "cell_type": "markdown",
   "metadata": {},
   "source": [
    "Solve the equations for $Y_1$ and $Y_2$. "
   ]
  },
  {
   "cell_type": "code",
   "execution_count": 8,
   "metadata": {},
   "outputs": [
    {
     "data": {
      "image/png": "[encoded data removed]",
      "text/latex": [
       "$\\displaystyle \\frac{G_{1} G_{2} \\left(G_{5} H_{2} - G_{6}\\right)}{G_{1} G_{2} H_{1} \\left(G_{5} H_{2} - G_{6}\\right) + G_{3} G_{4} H_{2} + G_{5} H_{2} - G_{6}}$"
      ],
      "text/plain": [
       "              G₁⋅G₂⋅(G₅⋅H₂ - G₆)             \n",
       "─────────────────────────────────────────────\n",
       "G₁⋅G₂⋅H₁⋅(G₅⋅H₂ - G₆) + G₃⋅G₄⋅H₂ + G₅⋅H₂ - G₆"
      ]
     },
     "execution_count": 8,
     "metadata": {},
     "output_type": "execute_result"
    }
   ],
   "source": [
    "T11 = soln[Y1]/R1\n",
    "T11"
   ]
  },
  {
   "cell_type": "code",
   "execution_count": 9,
   "metadata": {},
   "outputs": [
    {
     "data": {
      "image/png": "[encoded data removed]",
      "text/latex": [
       "$\\displaystyle - \\frac{G_{1} G_{4}}{G_{1} G_{2} H_{1} \\left(G_{5} H_{2} - G_{6}\\right) + G_{3} G_{4} H_{2} + G_{5} H_{2} - G_{6}}$"
      ],
      "text/plain": [
       "                   -G₁⋅G₄                    \n",
       "─────────────────────────────────────────────\n",
       "G₁⋅G₂⋅H₁⋅(G₅⋅H₂ - G₆) + G₃⋅G₄⋅H₂ + G₅⋅H₂ - G₆"
      ]
     },
     "execution_count": 9,
     "metadata": {},
     "output_type": "execute_result"
    }
   ],
   "source": [
    "T12 = soln[Y2]/R1\n",
    "T12"
   ]
  },
  {
   "cell_type": "code",
   "execution_count": null,
   "metadata": {},
   "outputs": [],
   "source": []
  }
 ],
 "metadata": {
  "kernelspec": {
   "display_name": "Python 3",
   "language": "python",
   "name": "python3"
  },
  "language_info": {
   "codemirror_mode": {
    "name": "ipython",
    "version": 3
   },
   "file_extension": ".py",
   "mimetype": "text/x-python",
   "name": "python",
   "nbconvert_exporter": "python",
   "pygments_lexer": "ipython3",
   "version": "3.8.5"
  }
 },
 "nbformat": 4,
 "nbformat_minor": 4
}
